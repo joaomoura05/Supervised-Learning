{
  "cells": [
    {
      "attachments": {},
      "cell_type": "markdown",
      "metadata": {
        "id": "CaW5WuQaYAI_"
      },
      "source": [
        "## Aprendizado Supervisionado\n",
        "\n",
        "Prática com KNN e wine"
      ]
    },
    {
      "cell_type": "code",
      "execution_count": 1,
      "metadata": {
        "id": "o397OstRYF55"
      },
      "outputs": [],
      "source": [
        "# pacotes básicos\n",
        "import math\n",
        "import numpy as np\n",
        "import pandas as pd\n",
        "import matplotlib.pyplot as plt\n",
        "\n",
        "# pacotes do sklearn para acesso a datasets, preparação, modelagem e avaliação\n",
        "from sklearn import datasets\n",
        "# pacote pipeline para combinar preparação e modelagem\n",
        "from sklearn.pipeline import Pipeline, make_pipeline\n",
        "# arsenal de preparação\n",
        "from sklearn.preprocessing import MinMaxScaler # rescala em min-max\n",
        "from sklearn.preprocessing import StandardScaler # padroniza features removendo média e \n",
        "#     escalando para variância unitária. Também chamado de z-score\n",
        "#\n",
        "from sklearn.neighbors import KNeighborsClassifier as knn\n",
        "from sklearn.metrics import accuracy_score as acc_score\n",
        "from sklearn.metrics import confusion_matrix as cm\n",
        "from sklearn.metrics import ConfusionMatrixDisplay as CMD\n",
        "#\n",
        "#    opções de seleção de modelo de entrada\n",
        "from sklearn.model_selection import train_test_split as tts\n",
        "from sklearn.model_selection import StratifiedKFold as skf\n",
        "from sklearn.utils import resample\n",
        "\n",
        "#pacotes para apoio a leitura e gravação de datasets\n",
        "from pathlib import Path\n",
        "import csv\n",
        "import pprint"
      ]
    },
    {
      "cell_type": "code",
      "execution_count": 2,
      "metadata": {
        "id": "cKVLyqCEYcdO"
      },
      "outputs": [
        {
          "name": "stdout",
          "output_type": "stream",
          "text": [
            ".. _wine_dataset:\n",
            "\n",
            "Wine recognition dataset\n",
            "------------------------\n",
            "\n",
            "**Data Set Characteristics:**\n",
            "\n",
            "    :Number of Instances: 178 (50 in each of three classes)\n",
            "    :Number of Attributes: 13 numeric, predictive attributes and the class\n",
            "    :Attribute Information:\n",
            " \t\t- Alcohol\n",
            " \t\t- Malic acid\n",
            " \t\t- Ash\n",
            "\t\t- Alcalinity of ash  \n",
            " \t\t- Magnesium\n",
            "\t\t- Total phenols\n",
            " \t\t- Flavanoids\n",
            " \t\t- Nonflavanoid phenols\n",
            " \t\t- Proanthocyanins\n",
            "\t\t- Color intensity\n",
            " \t\t- Hue\n",
            " \t\t- OD280/OD315 of diluted wines\n",
            " \t\t- Proline\n",
            "\n",
            "    - class:\n",
            "            - class_0\n",
            "            - class_1\n",
            "            - class_2\n",
            "\t\t\n",
            "    :Summary Statistics:\n",
            "    \n",
            "    ============================= ==== ===== ======= =====\n",
            "                                   Min   Max   Mean     SD\n",
            "    ============================= ==== ===== ======= =====\n",
            "    Alcohol:                      11.0  14.8    13.0   0.8\n",
            "    Malic Acid:                   0.74  5.80    2.34  1.12\n",
            "    Ash:                          1.36  3.23    2.36  0.27\n",
            "    Alcalinity of Ash:            10.6  30.0    19.5   3.3\n",
            "    Magnesium:                    70.0 162.0    99.7  14.3\n",
            "    Total Phenols:                0.98  3.88    2.29  0.63\n",
            "    Flavanoids:                   0.34  5.08    2.03  1.00\n",
            "    Nonflavanoid Phenols:         0.13  0.66    0.36  0.12\n",
            "    Proanthocyanins:              0.41  3.58    1.59  0.57\n",
            "    Colour Intensity:              1.3  13.0     5.1   2.3\n",
            "    Hue:                          0.48  1.71    0.96  0.23\n",
            "    OD280/OD315 of diluted wines: 1.27  4.00    2.61  0.71\n",
            "    Proline:                       278  1680     746   315\n",
            "    ============================= ==== ===== ======= =====\n",
            "\n",
            "    :Missing Attribute Values: None\n",
            "    :Class Distribution: class_0 (59), class_1 (71), class_2 (48)\n",
            "    :Creator: R.A. Fisher\n",
            "    :Donor: Michael Marshall (MARSHALL%PLU@io.arc.nasa.gov)\n",
            "    :Date: July, 1988\n",
            "\n",
            "This is a copy of UCI ML Wine recognition datasets.\n",
            "https://archive.ics.uci.edu/ml/machine-learning-databases/wine/wine.data\n",
            "\n",
            "The data is the results of a chemical analysis of wines grown in the same\n",
            "region in Italy by three different cultivators. There are thirteen different\n",
            "measurements taken for different constituents found in the three types of\n",
            "wine.\n",
            "\n",
            "Original Owners: \n",
            "\n",
            "Forina, M. et al, PARVUS - \n",
            "An Extendible Package for Data Exploration, Classification and Correlation. \n",
            "Institute of Pharmaceutical and Food Analysis and Technologies,\n",
            "Via Brigata Salerno, 16147 Genoa, Italy.\n",
            "\n",
            "Citation:\n",
            "\n",
            "Lichman, M. (2013). UCI Machine Learning Repository\n",
            "[https://archive.ics.uci.edu/ml]. Irvine, CA: University of California,\n",
            "School of Information and Computer Science. \n",
            "\n",
            ".. topic:: References\n",
            "\n",
            "  (1) S. Aeberhard, D. Coomans and O. de Vel, \n",
            "  Comparison of Classifiers in High Dimensional Settings, \n",
            "  Tech. Rep. no. 92-02, (1992), Dept. of Computer Science and Dept. of  \n",
            "  Mathematics and Statistics, James Cook University of North Queensland. \n",
            "  (Also submitted to Technometrics). \n",
            "\n",
            "  The data was used with many others for comparing various \n",
            "  classifiers. The classes are separable, though only RDA \n",
            "  has achieved 100% correct classification. \n",
            "  (RDA : 100%, QDA 99.4%, LDA 98.9%, 1NN 96.1% (z-transformed data)) \n",
            "  (All results using the leave-one-out technique) \n",
            "\n",
            "  (2) S. Aeberhard, D. Coomans and O. de Vel, \n",
            "  \"THE CLASSIFICATION PERFORMANCE OF RDA\" \n",
            "  Tech. Rep. no. 92-01, (1992), Dept. of Computer Science and Dept. of \n",
            "  Mathematics and Statistics, James Cook University of North Queensland. \n",
            "  (Also submitted to Journal of Chemometrics).\n",
            "\n"
          ]
        }
      ],
      "source": [
        "# carga de dados \n",
        "wine = datasets.load_wine(as_frame=True)\n",
        "print(wine.DESCR)"
      ]
    },
    {
      "cell_type": "code",
      "execution_count": 3,
      "metadata": {
        "id": "CDPlsv-qYtaG"
      },
      "outputs": [],
      "source": [
        "X = wine.data\n",
        "y = wine.target"
      ]
    },
    {
      "cell_type": "code",
      "execution_count": 4,
      "metadata": {
        "id": "m39Tn8g0Yzkt"
      },
      "outputs": [
        {
          "data": {
            "text/html": [
              "<div>\n",
              "<style scoped>\n",
              "    .dataframe tbody tr th:only-of-type {\n",
              "        vertical-align: middle;\n",
              "    }\n",
              "\n",
              "    .dataframe tbody tr th {\n",
              "        vertical-align: top;\n",
              "    }\n",
              "\n",
              "    .dataframe thead th {\n",
              "        text-align: right;\n",
              "    }\n",
              "</style>\n",
              "<table border=\"1\" class=\"dataframe\">\n",
              "  <thead>\n",
              "    <tr style=\"text-align: right;\">\n",
              "      <th></th>\n",
              "      <th>alcohol</th>\n",
              "      <th>malic_acid</th>\n",
              "      <th>ash</th>\n",
              "      <th>alcalinity_of_ash</th>\n",
              "      <th>magnesium</th>\n",
              "      <th>total_phenols</th>\n",
              "      <th>flavanoids</th>\n",
              "      <th>nonflavanoid_phenols</th>\n",
              "      <th>proanthocyanins</th>\n",
              "      <th>color_intensity</th>\n",
              "      <th>hue</th>\n",
              "      <th>od280/od315_of_diluted_wines</th>\n",
              "      <th>proline</th>\n",
              "      <th>target</th>\n",
              "    </tr>\n",
              "  </thead>\n",
              "  <tbody>\n",
              "    <tr>\n",
              "      <th>0</th>\n",
              "      <td>14.23</td>\n",
              "      <td>1.71</td>\n",
              "      <td>2.43</td>\n",
              "      <td>15.6</td>\n",
              "      <td>127.0</td>\n",
              "      <td>2.80</td>\n",
              "      <td>3.06</td>\n",
              "      <td>0.28</td>\n",
              "      <td>2.29</td>\n",
              "      <td>5.64</td>\n",
              "      <td>1.04</td>\n",
              "      <td>3.92</td>\n",
              "      <td>1065.0</td>\n",
              "      <td>0</td>\n",
              "    </tr>\n",
              "    <tr>\n",
              "      <th>1</th>\n",
              "      <td>13.20</td>\n",
              "      <td>1.78</td>\n",
              "      <td>2.14</td>\n",
              "      <td>11.2</td>\n",
              "      <td>100.0</td>\n",
              "      <td>2.65</td>\n",
              "      <td>2.76</td>\n",
              "      <td>0.26</td>\n",
              "      <td>1.28</td>\n",
              "      <td>4.38</td>\n",
              "      <td>1.05</td>\n",
              "      <td>3.40</td>\n",
              "      <td>1050.0</td>\n",
              "      <td>0</td>\n",
              "    </tr>\n",
              "    <tr>\n",
              "      <th>2</th>\n",
              "      <td>13.16</td>\n",
              "      <td>2.36</td>\n",
              "      <td>2.67</td>\n",
              "      <td>18.6</td>\n",
              "      <td>101.0</td>\n",
              "      <td>2.80</td>\n",
              "      <td>3.24</td>\n",
              "      <td>0.30</td>\n",
              "      <td>2.81</td>\n",
              "      <td>5.68</td>\n",
              "      <td>1.03</td>\n",
              "      <td>3.17</td>\n",
              "      <td>1185.0</td>\n",
              "      <td>0</td>\n",
              "    </tr>\n",
              "    <tr>\n",
              "      <th>3</th>\n",
              "      <td>14.37</td>\n",
              "      <td>1.95</td>\n",
              "      <td>2.50</td>\n",
              "      <td>16.8</td>\n",
              "      <td>113.0</td>\n",
              "      <td>3.85</td>\n",
              "      <td>3.49</td>\n",
              "      <td>0.24</td>\n",
              "      <td>2.18</td>\n",
              "      <td>7.80</td>\n",
              "      <td>0.86</td>\n",
              "      <td>3.45</td>\n",
              "      <td>1480.0</td>\n",
              "      <td>0</td>\n",
              "    </tr>\n",
              "    <tr>\n",
              "      <th>4</th>\n",
              "      <td>13.24</td>\n",
              "      <td>2.59</td>\n",
              "      <td>2.87</td>\n",
              "      <td>21.0</td>\n",
              "      <td>118.0</td>\n",
              "      <td>2.80</td>\n",
              "      <td>2.69</td>\n",
              "      <td>0.39</td>\n",
              "      <td>1.82</td>\n",
              "      <td>4.32</td>\n",
              "      <td>1.04</td>\n",
              "      <td>2.93</td>\n",
              "      <td>735.0</td>\n",
              "      <td>0</td>\n",
              "    </tr>\n",
              "    <tr>\n",
              "      <th>...</th>\n",
              "      <td>...</td>\n",
              "      <td>...</td>\n",
              "      <td>...</td>\n",
              "      <td>...</td>\n",
              "      <td>...</td>\n",
              "      <td>...</td>\n",
              "      <td>...</td>\n",
              "      <td>...</td>\n",
              "      <td>...</td>\n",
              "      <td>...</td>\n",
              "      <td>...</td>\n",
              "      <td>...</td>\n",
              "      <td>...</td>\n",
              "      <td>...</td>\n",
              "    </tr>\n",
              "    <tr>\n",
              "      <th>173</th>\n",
              "      <td>13.71</td>\n",
              "      <td>5.65</td>\n",
              "      <td>2.45</td>\n",
              "      <td>20.5</td>\n",
              "      <td>95.0</td>\n",
              "      <td>1.68</td>\n",
              "      <td>0.61</td>\n",
              "      <td>0.52</td>\n",
              "      <td>1.06</td>\n",
              "      <td>7.70</td>\n",
              "      <td>0.64</td>\n",
              "      <td>1.74</td>\n",
              "      <td>740.0</td>\n",
              "      <td>2</td>\n",
              "    </tr>\n",
              "    <tr>\n",
              "      <th>174</th>\n",
              "      <td>13.40</td>\n",
              "      <td>3.91</td>\n",
              "      <td>2.48</td>\n",
              "      <td>23.0</td>\n",
              "      <td>102.0</td>\n",
              "      <td>1.80</td>\n",
              "      <td>0.75</td>\n",
              "      <td>0.43</td>\n",
              "      <td>1.41</td>\n",
              "      <td>7.30</td>\n",
              "      <td>0.70</td>\n",
              "      <td>1.56</td>\n",
              "      <td>750.0</td>\n",
              "      <td>2</td>\n",
              "    </tr>\n",
              "    <tr>\n",
              "      <th>175</th>\n",
              "      <td>13.27</td>\n",
              "      <td>4.28</td>\n",
              "      <td>2.26</td>\n",
              "      <td>20.0</td>\n",
              "      <td>120.0</td>\n",
              "      <td>1.59</td>\n",
              "      <td>0.69</td>\n",
              "      <td>0.43</td>\n",
              "      <td>1.35</td>\n",
              "      <td>10.20</td>\n",
              "      <td>0.59</td>\n",
              "      <td>1.56</td>\n",
              "      <td>835.0</td>\n",
              "      <td>2</td>\n",
              "    </tr>\n",
              "    <tr>\n",
              "      <th>176</th>\n",
              "      <td>13.17</td>\n",
              "      <td>2.59</td>\n",
              "      <td>2.37</td>\n",
              "      <td>20.0</td>\n",
              "      <td>120.0</td>\n",
              "      <td>1.65</td>\n",
              "      <td>0.68</td>\n",
              "      <td>0.53</td>\n",
              "      <td>1.46</td>\n",
              "      <td>9.30</td>\n",
              "      <td>0.60</td>\n",
              "      <td>1.62</td>\n",
              "      <td>840.0</td>\n",
              "      <td>2</td>\n",
              "    </tr>\n",
              "    <tr>\n",
              "      <th>177</th>\n",
              "      <td>14.13</td>\n",
              "      <td>4.10</td>\n",
              "      <td>2.74</td>\n",
              "      <td>24.5</td>\n",
              "      <td>96.0</td>\n",
              "      <td>2.05</td>\n",
              "      <td>0.76</td>\n",
              "      <td>0.56</td>\n",
              "      <td>1.35</td>\n",
              "      <td>9.20</td>\n",
              "      <td>0.61</td>\n",
              "      <td>1.60</td>\n",
              "      <td>560.0</td>\n",
              "      <td>2</td>\n",
              "    </tr>\n",
              "  </tbody>\n",
              "</table>\n",
              "<p>178 rows × 14 columns</p>\n",
              "</div>"
            ],
            "text/plain": [
              "     alcohol  malic_acid   ash  alcalinity_of_ash  magnesium  total_phenols  \\\n",
              "0      14.23        1.71  2.43               15.6      127.0           2.80   \n",
              "1      13.20        1.78  2.14               11.2      100.0           2.65   \n",
              "2      13.16        2.36  2.67               18.6      101.0           2.80   \n",
              "3      14.37        1.95  2.50               16.8      113.0           3.85   \n",
              "4      13.24        2.59  2.87               21.0      118.0           2.80   \n",
              "..       ...         ...   ...                ...        ...            ...   \n",
              "173    13.71        5.65  2.45               20.5       95.0           1.68   \n",
              "174    13.40        3.91  2.48               23.0      102.0           1.80   \n",
              "175    13.27        4.28  2.26               20.0      120.0           1.59   \n",
              "176    13.17        2.59  2.37               20.0      120.0           1.65   \n",
              "177    14.13        4.10  2.74               24.5       96.0           2.05   \n",
              "\n",
              "     flavanoids  nonflavanoid_phenols  proanthocyanins  color_intensity   hue  \\\n",
              "0          3.06                  0.28             2.29             5.64  1.04   \n",
              "1          2.76                  0.26             1.28             4.38  1.05   \n",
              "2          3.24                  0.30             2.81             5.68  1.03   \n",
              "3          3.49                  0.24             2.18             7.80  0.86   \n",
              "4          2.69                  0.39             1.82             4.32  1.04   \n",
              "..          ...                   ...              ...              ...   ...   \n",
              "173        0.61                  0.52             1.06             7.70  0.64   \n",
              "174        0.75                  0.43             1.41             7.30  0.70   \n",
              "175        0.69                  0.43             1.35            10.20  0.59   \n",
              "176        0.68                  0.53             1.46             9.30  0.60   \n",
              "177        0.76                  0.56             1.35             9.20  0.61   \n",
              "\n",
              "     od280/od315_of_diluted_wines  proline  target  \n",
              "0                            3.92   1065.0       0  \n",
              "1                            3.40   1050.0       0  \n",
              "2                            3.17   1185.0       0  \n",
              "3                            3.45   1480.0       0  \n",
              "4                            2.93    735.0       0  \n",
              "..                            ...      ...     ...  \n",
              "173                          1.74    740.0       2  \n",
              "174                          1.56    750.0       2  \n",
              "175                          1.56    835.0       2  \n",
              "176                          1.62    840.0       2  \n",
              "177                          1.60    560.0       2  \n",
              "\n",
              "[178 rows x 14 columns]"
            ]
          },
          "execution_count": 4,
          "metadata": {},
          "output_type": "execute_result"
        }
      ],
      "source": [
        "wine.frame"
      ]
    },
    {
      "cell_type": "code",
      "execution_count": 5,
      "metadata": {
        "id": "Jl87zokWY0ze"
      },
      "outputs": [
        {
          "name": "stdout",
          "output_type": "stream",
          "text": [
            "(142, 13)\n",
            "(142,)\n",
            "(36, 13)\n",
            "(36,)\n",
            "[[ 0 12]\n",
            " [ 1 14]\n",
            " [ 2 10]]\n"
          ]
        }
      ],
      "source": [
        "# separação em treino e teste, e X e y\n",
        "\n",
        "treino_X, teste_X, treino_y, teste_y = tts(X, y, random_state=0, test_size=0.2, stratify=y)\n",
        "\n",
        "print(treino_X.shape)\n",
        "print(treino_y.shape)\n",
        "print(teste_X.shape)\n",
        "print(teste_y.shape)\n",
        "print(np.stack(np.unique(teste_y, return_counts=True), axis=1))"
      ]
    },
    {
      "cell_type": "markdown",
      "metadata": {
        "id": "V64aP1fwZYjO"
      },
      "source": [
        "##  Experimento sem reescala de valores"
      ]
    },
    {
      "cell_type": "code",
      "execution_count": 6,
      "metadata": {
        "id": "ewRZbwdnZHQb"
      },
      "outputs": [
        {
          "name": "stdout",
          "output_type": "stream",
          "text": [
            "k= 1   Acuracia= 0.6388888888888888\n",
            "k= 3   Acuracia= 0.5555555555555556\n",
            "k= 5   Acuracia= 0.6111111111111112\n",
            "k= 7   Acuracia= 0.5833333333333334\n",
            "k= 9   Acuracia= 0.6111111111111112\n",
            "k= 11   Acuracia= 0.6111111111111112\n",
            "k= 13   Acuracia= 0.5833333333333334\n"
          ]
        },
        {
          "data": {
            "image/png": "[encoded data removed]",
            "text/plain": [
              "<Figure size 432x288 with 2 Axes>"
            ]
          },
          "metadata": {
            "needs_background": "light"
          },
          "output_type": "display_data"
        },
        {
          "data": {
            "image/png": "[encoded data removed]",
            "text/plain": [
              "<Figure size 432x288 with 2 Axes>"
            ]
          },
          "metadata": {
            "needs_background": "light"
          },
          "output_type": "display_data"
        },
        {
          "data": {
            "image/png": "[encoded data removed]",
            "text/plain": [
              "<Figure size 432x288 with 2 Axes>"
            ]
          },
          "metadata": {
            "needs_background": "light"
          },
          "output_type": "display_data"
        },
        {
          "data": {
            "image/png": "[encoded data removed]",
            "text/plain": [
              "<Figure size 432x288 with 2 Axes>"
            ]
          },
          "metadata": {
            "needs_background": "light"
          },
          "output_type": "display_data"
        },
        {
          "data": {
            "image/png": "[encoded data removed]",
            "text/plain": [
              "<Figure size 432x288 with 2 Axes>"
            ]
          },
          "metadata": {
            "needs_background": "light"
          },
          "output_type": "display_data"
        },
        {
          "data": {
            "image/png": "[encoded data removed]",
            "text/plain": [
              "<Figure size 432x288 with 2 Axes>"
            ]
          },
          "metadata": {
            "needs_background": "light"
          },
          "output_type": "display_data"
        },
        {
          "data": {
            "image/png": "[encoded data removed]",
            "text/plain": [
              "<Figure size 432x288 with 2 Axes>"
            ]
          },
          "metadata": {
            "needs_background": "light"
          },
          "output_type": "display_data"
        }
      ],
      "source": [
        "# indução do modelo para diferentes números de vizinhos\n",
        "\n",
        "n_vizinhos = [1, 3, 5, 7, 9, 11, 13]\n",
        "\n",
        "for n in n_vizinhos:\n",
        "    modelo = knn(n_neighbors=n)\n",
        "    modelo.fit(treino_X, treino_y)\n",
        "    teste_pred_y = modelo.predict(teste_X)\n",
        "    acuracia = acc_score(teste_y, teste_pred_y)\n",
        "    resultado = cm(teste_y, teste_pred_y)\n",
        "    cm_display = CMD(resultado).plot()\n",
        "    print('k=', n,'  Acuracia=', acuracia)\n",
        "    \n"
      ]
    },
    {
      "cell_type": "markdown",
      "metadata": {
        "id": "eQ_6fdz5ZhmY"
      },
      "source": [
        "##  Experimento com reescala de valores"
      ]
    },
    {
      "cell_type": "code",
      "execution_count": 7,
      "metadata": {
        "id": "OXMvcuWrZTbU"
      },
      "outputs": [
        {
          "name": "stdout",
          "output_type": "stream",
          "text": [
            "k= 1   Acuracia= 1.0\n",
            "k= 3   Acuracia= 1.0\n",
            "k= 5   Acuracia= 0.9722222222222222\n",
            "k= 7   Acuracia= 0.9722222222222222\n",
            "k= 9   Acuracia= 0.9722222222222222\n",
            "k= 11   Acuracia= 0.9722222222222222\n",
            "k= 13   Acuracia= 0.9722222222222222\n"
          ]
        },
        {
          "data": {
            "image/png": "[encoded data removed]",
            "text/plain": [
              "<Figure size 432x288 with 2 Axes>"
            ]
          },
          "metadata": {
            "needs_background": "light"
          },
          "output_type": "display_data"
        },
        {
          "data": {
            "image/png": "[encoded data removed]",
            "text/plain": [
              "<Figure size 432x288 with 2 Axes>"
            ]
          },
          "metadata": {
            "needs_background": "light"
          },
          "output_type": "display_data"
        },
        {
          "data": {
            "image/png": "[encoded data removed]",
            "text/plain": [
              "<Figure size 432x288 with 2 Axes>"
            ]
          },
          "metadata": {
            "needs_background": "light"
          },
          "output_type": "display_data"
        },
        {
          "data": {
            "image/png": "[encoded data removed]",
            "text/plain": [
              "<Figure size 432x288 with 2 Axes>"
            ]
          },
          "metadata": {
            "needs_background": "light"
          },
          "output_type": "display_data"
        },
        {
          "data": {
            "image/png": "[encoded data removed]",
            "text/plain": [
              "<Figure size 432x288 with 2 Axes>"
            ]
          },
          "metadata": {
            "needs_background": "light"
          },
          "output_type": "display_data"
        },
        {
          "data": {
            "image/png": "[encoded data removed]",
            "text/plain": [
              "<Figure size 432x288 with 2 Axes>"
            ]
          },
          "metadata": {
            "needs_background": "light"
          },
          "output_type": "display_data"
        },
        {
          "data": {
            "image/png": "[encoded data removed]",
            "text/plain": [
              "<Figure size 432x288 with 2 Axes>"
            ]
          },
          "metadata": {
            "needs_background": "light"
          },
          "output_type": "display_data"
        }
      ],
      "source": [
        "# protocolo experimental\n",
        "\n",
        "n_vizinhos = [1, 3, 5, 7, 9, 11, 13]\n",
        "\n",
        "for n in n_vizinhos:\n",
        "  escalonador = MinMaxScaler()\n",
        "  estimador = knn(n_neighbors= n)\n",
        "  treino_X_escalonado = escalonador.fit_transform(treino_X, treino_y)\n",
        "  estimador.fit(treino_X_escalonado, treino_y)\n",
        "  teste_X_escalonado = escalonador.transform(teste_X)\n",
        "  teste_pred_y = estimador.predict(teste_X_escalonado)\n",
        "  acuracia = acc_score(teste_y, teste_pred_y)\n",
        "  resultado = cm(teste_y, teste_pred_y)\n",
        "  cm_display = CMD(resultado).plot()\n",
        "  print('k=', n,'  Acuracia=', acuracia)"
      ]
    },
    {
      "cell_type": "markdown",
      "metadata": {
        "id": "0ln_r4MVaQue"
      },
      "source": [
        "##   Experimento sem reescala mas com validação cruzada"
      ]
    },
    {
      "cell_type": "code",
      "execution_count": 8,
      "metadata": {
        "id": "u0STCMsvZot4"
      },
      "outputs": [
        {
          "name": "stdout",
          "output_type": "stream",
          "text": [
            "Fold= 0 ----------------\n",
            "k= 1   Acuracia= 0.8333333333333334\n",
            "k= 3   Acuracia= 0.6666666666666666\n",
            "k= 5   Acuracia= 0.6666666666666666\n",
            "k= 7   Acuracia= 0.6666666666666666\n",
            "k= 9   Acuracia= 0.7222222222222222\n",
            "k= 11   Acuracia= 0.7777777777777778\n",
            "k= 13   Acuracia= 0.7777777777777778\n",
            "Fold= 1 ----------------\n",
            "k= 1   Acuracia= 0.7777777777777778\n",
            "k= 3   Acuracia= 0.6111111111111112\n",
            "k= 5   Acuracia= 0.6666666666666666\n",
            "k= 7   Acuracia= 0.7222222222222222\n",
            "k= 9   Acuracia= 0.7222222222222222\n",
            "k= 11   Acuracia= 0.7222222222222222\n",
            "k= 13   Acuracia= 0.7222222222222222\n",
            "Fold= 2 ----------------\n",
            "k= 1   Acuracia= 0.6666666666666666\n",
            "k= 3   Acuracia= 0.6666666666666666\n",
            "k= 5   Acuracia= 0.6111111111111112\n",
            "k= 7   Acuracia= 0.6111111111111112\n",
            "k= 9   Acuracia= 0.6666666666666666\n",
            "k= 11   Acuracia= 0.6111111111111112\n",
            "k= 13   Acuracia= 0.6111111111111112\n",
            "Fold= 3 ----------------\n",
            "k= 1   Acuracia= 0.5555555555555556\n",
            "k= 3   Acuracia= 0.6666666666666666\n",
            "k= 5   Acuracia= 0.6111111111111112\n",
            "k= 7   Acuracia= 0.5\n",
            "k= 9   Acuracia= 0.6111111111111112\n",
            "k= 11   Acuracia= 0.6111111111111112\n",
            "k= 13   Acuracia= 0.6666666666666666\n",
            "Fold= 4 ----------------\n",
            "k= 1   Acuracia= 0.6111111111111112\n",
            "k= 3   Acuracia= 0.6666666666666666\n",
            "k= 5   Acuracia= 0.6111111111111112\n",
            "k= 7   Acuracia= 0.6111111111111112\n",
            "k= 9   Acuracia= 0.6111111111111112\n",
            "k= 11   Acuracia= 0.6666666666666666\n",
            "k= 13   Acuracia= 0.6111111111111112\n",
            "Fold= 5 ----------------\n",
            "k= 1   Acuracia= 0.8333333333333334\n",
            "k= 3   Acuracia= 0.6666666666666666\n",
            "k= 5   Acuracia= 0.6111111111111112\n",
            "k= 7   Acuracia= 0.6111111111111112\n",
            "k= 9   Acuracia= 0.6111111111111112\n",
            "k= 11   Acuracia= 0.7222222222222222\n",
            "k= 13   Acuracia= 0.6666666666666666\n",
            "Fold= 6 ----------------\n",
            "k= 1   Acuracia= 0.7777777777777778\n",
            "k= 3   Acuracia= 0.7222222222222222\n",
            "k= 5   Acuracia= 0.7222222222222222\n",
            "k= 7   Acuracia= 0.7222222222222222\n",
            "k= 9   Acuracia= 0.7222222222222222\n",
            "k= 11   Acuracia= 0.7777777777777778\n",
            "k= 13   Acuracia= 0.6666666666666666\n",
            "Fold= 7 ----------------\n",
            "k= 1   Acuracia= 0.7777777777777778\n",
            "k= 3   Acuracia= 0.7777777777777778\n",
            "k= 5   Acuracia= 0.6666666666666666\n",
            "k= 7   Acuracia= 0.7222222222222222\n",
            "k= 9   Acuracia= 0.7222222222222222\n",
            "k= 11   Acuracia= 0.6666666666666666\n",
            "k= 13   Acuracia= 0.6666666666666666\n",
            "Fold= 8 ----------------\n",
            "k= 1   Acuracia= 0.8235294117647058\n",
            "k= 3   Acuracia= 0.8823529411764706\n",
            "k= 5   Acuracia= 0.8235294117647058\n",
            "k= 7   Acuracia= 0.8235294117647058\n",
            "k= 9   Acuracia= 0.7647058823529411\n",
            "k= 11   Acuracia= 0.7647058823529411\n",
            "k= 13   Acuracia= 0.7058823529411765\n",
            "Fold= 9 ----------------\n",
            "k= 1   Acuracia= 0.8235294117647058\n",
            "k= 3   Acuracia= 0.8823529411764706\n",
            "k= 5   Acuracia= 0.7647058823529411\n",
            "k= 7   Acuracia= 0.7058823529411765\n",
            "k= 9   Acuracia= 0.8235294117647058\n",
            "k= 11   Acuracia= 0.8235294117647058\n",
            "k= 13   Acuracia= 0.8235294117647058\n"
          ]
        },
        {
          "data": {
            "image/png": "[encoded data removed]",
            "text/plain": [
              "<Figure size 432x288 with 1 Axes>"
            ]
          },
          "metadata": {
            "needs_background": "light"
          },
          "output_type": "display_data"
        }
      ],
      "source": [
        "#  criação das amostras para as execuções\n",
        "\n",
        "n_splits = 10\n",
        "\n",
        "n_vizinhos = [1, 3, 5, 7, 9, 11, 13]\n",
        "\n",
        "dskf = skf(n_splits=n_splits)\n",
        "\n",
        "vetor_acuracia = np.zeros((n_splits, (np.max(n_vizinhos)-1)//2+1))\n",
        "\n",
        "for i, (treino_index, teste_index) in enumerate(dskf.split(X, y)):\n",
        "\n",
        "  print('Fold=', i,'----------------')\n",
        "\n",
        "\n",
        "  treino_X, teste_X = X.iloc[treino_index], X.iloc[teste_index]\n",
        "  treino_y, teste_y = y.iloc[treino_index], y.iloc[teste_index]\n",
        "    \n",
        "# indução do modelo para diferentes números de vizinhos\n",
        "\n",
        "\n",
        "  for n in n_vizinhos:\n",
        "      modelo = knn(n_neighbors=n)\n",
        "      modelo.fit(treino_X, treino_y)\n",
        "      teste_pred_y = modelo.predict(teste_X)\n",
        "      acuracia = acc_score(teste_y, teste_pred_y)\n",
        "      vetor_acuracia[i - 1, (n - 1)//2] = acuracia\n",
        "      resultado = cm(teste_y, teste_pred_y)\n",
        "      #cm_display = CMD(resultado).plot()\n",
        "      #plt.show()\n",
        "      print('k=', n,'  Acuracia=', acuracia)\n",
        "      \n",
        "        \n",
        "avg_acuracia = vetor_acuracia.mean(axis=0)\n",
        "\n",
        "plt.plot(n_vizinhos, avg_acuracia, '-o')\n",
        "plt.xticks(n_vizinhos);"
      ]
    },
    {
      "cell_type": "markdown",
      "metadata": {
        "id": "__K_jAZLC2zl"
      },
      "source": [
        "##  Experimento com reescala e com validação cruzada"
      ]
    },
    {
      "cell_type": "code",
      "execution_count": 9,
      "metadata": {
        "id": "s4OiOGnna23f"
      },
      "outputs": [
        {
          "name": "stdout",
          "output_type": "stream",
          "text": [
            "Fold= 0 ----------------\n",
            "k= 1   Acuracia= 0.8333333333333334\n",
            "k= 3   Acuracia= 0.8333333333333334\n",
            "k= 5   Acuracia= 0.9444444444444444\n",
            "k= 7   Acuracia= 1.0\n",
            "k= 9   Acuracia= 1.0\n",
            "k= 11   Acuracia= 1.0\n",
            "k= 13   Acuracia= 0.9444444444444444\n",
            "Fold= 1 ----------------\n",
            "k= 1   Acuracia= 0.9444444444444444\n",
            "k= 3   Acuracia= 0.9444444444444444\n",
            "k= 5   Acuracia= 0.8888888888888888\n",
            "k= 7   Acuracia= 0.8888888888888888\n",
            "k= 9   Acuracia= 0.9444444444444444\n",
            "k= 11   Acuracia= 0.9444444444444444\n",
            "k= 13   Acuracia= 0.9444444444444444\n",
            "Fold= 2 ----------------\n",
            "k= 1   Acuracia= 0.9444444444444444\n",
            "k= 3   Acuracia= 0.9444444444444444\n",
            "k= 5   Acuracia= 0.9444444444444444\n",
            "k= 7   Acuracia= 0.9444444444444444\n",
            "k= 9   Acuracia= 0.9444444444444444\n",
            "k= 11   Acuracia= 0.9444444444444444\n",
            "k= 13   Acuracia= 0.9444444444444444\n",
            "Fold= 3 ----------------\n",
            "k= 1   Acuracia= 0.9444444444444444\n",
            "k= 3   Acuracia= 0.9444444444444444\n",
            "k= 5   Acuracia= 0.9444444444444444\n",
            "k= 7   Acuracia= 0.9444444444444444\n",
            "k= 9   Acuracia= 0.9444444444444444\n",
            "k= 11   Acuracia= 0.9444444444444444\n",
            "k= 13   Acuracia= 0.9444444444444444\n",
            "Fold= 4 ----------------\n",
            "k= 1   Acuracia= 1.0\n",
            "k= 3   Acuracia= 1.0\n",
            "k= 5   Acuracia= 1.0\n",
            "k= 7   Acuracia= 1.0\n",
            "k= 9   Acuracia= 1.0\n",
            "k= 11   Acuracia= 1.0\n",
            "k= 13   Acuracia= 1.0\n",
            "Fold= 5 ----------------\n",
            "k= 1   Acuracia= 0.9444444444444444\n",
            "k= 3   Acuracia= 1.0\n",
            "k= 5   Acuracia= 0.9444444444444444\n",
            "k= 7   Acuracia= 0.9444444444444444\n",
            "k= 9   Acuracia= 0.9444444444444444\n",
            "k= 11   Acuracia= 0.9444444444444444\n",
            "k= 13   Acuracia= 0.9444444444444444\n",
            "Fold= 6 ----------------\n",
            "k= 1   Acuracia= 1.0\n",
            "k= 3   Acuracia= 1.0\n",
            "k= 5   Acuracia= 1.0\n",
            "k= 7   Acuracia= 1.0\n",
            "k= 9   Acuracia= 1.0\n",
            "k= 11   Acuracia= 1.0\n",
            "k= 13   Acuracia= 1.0\n",
            "Fold= 7 ----------------\n",
            "k= 1   Acuracia= 1.0\n",
            "k= 3   Acuracia= 1.0\n",
            "k= 5   Acuracia= 1.0\n",
            "k= 7   Acuracia= 1.0\n",
            "k= 9   Acuracia= 1.0\n",
            "k= 11   Acuracia= 1.0\n",
            "k= 13   Acuracia= 0.9444444444444444\n",
            "Fold= 8 ----------------\n",
            "k= 1   Acuracia= 0.8823529411764706\n",
            "k= 3   Acuracia= 0.8823529411764706\n",
            "k= 5   Acuracia= 0.9411764705882353\n",
            "k= 7   Acuracia= 0.9411764705882353\n",
            "k= 9   Acuracia= 0.9411764705882353\n",
            "k= 11   Acuracia= 0.9411764705882353\n",
            "k= 13   Acuracia= 0.9411764705882353\n",
            "Fold= 9 ----------------\n",
            "k= 1   Acuracia= 0.9411764705882353\n",
            "k= 3   Acuracia= 0.9411764705882353\n",
            "k= 5   Acuracia= 0.9411764705882353\n",
            "k= 7   Acuracia= 1.0\n",
            "k= 9   Acuracia= 1.0\n",
            "k= 11   Acuracia= 1.0\n",
            "k= 13   Acuracia= 1.0\n"
          ]
        },
        {
          "data": {
            "image/png": "[encoded data removed]",
            "text/plain": [
              "<Figure size 432x288 with 1 Axes>"
            ]
          },
          "metadata": {
            "needs_background": "light"
          },
          "output_type": "display_data"
        }
      ],
      "source": [
        "#  criação das amostras para as execuções\n",
        "\n",
        "n_splits = 10\n",
        "\n",
        "n_vizinhos = [1, 3, 5, 7, 9, 11, 13]\n",
        "\n",
        "dskf = skf(n_splits=n_splits)\n",
        "\n",
        "vetor_acuracia = np.zeros((n_splits, (np.max(n_vizinhos)-1)//2+1))\n",
        "\n",
        "for i, (treino_index, teste_index) in enumerate(dskf.split(X, y)):\n",
        "\n",
        "  print('Fold=', i,'----------------')\n",
        "\n",
        "\n",
        "  treino_X, teste_X = X.iloc[treino_index], X.iloc[teste_index]\n",
        "  treino_y, teste_y = y.iloc[treino_index], y.iloc[teste_index]\n",
        "    \n",
        "# indução do modelo para diferentes números de vizinhos\n",
        "\n",
        "\n",
        "  for n in n_vizinhos:\n",
        "    escalonador = MinMaxScaler()\n",
        "    estimador = knn(n_neighbors= n)\n",
        "    treino_X_escalonado = escalonador.fit_transform(treino_X, treino_y)\n",
        "    estimador.fit(treino_X_escalonado, treino_y)\n",
        "    teste_X_escalonado = escalonador.transform(teste_X)\n",
        "    teste_pred_y = estimador.predict(teste_X_escalonado)\n",
        "    acuracia = acc_score(teste_y, teste_pred_y)\n",
        "    vetor_acuracia[i - 1, (n - 1)//2] = acuracia\n",
        "    #resultado = cm(teste_y, teste_pred_y)\n",
        "    #cm_display = CMD(resultado).plot()\n",
        "    print('k=', n,'  Acuracia=', acuracia)\n",
        "        \n",
        "avg_acuracia = vetor_acuracia.mean(axis=0)\n",
        "\n",
        "plt.plot(n_vizinhos, avg_acuracia, '-o')\n",
        "plt.xticks(n_vizinhos);"
      ]
    }
  ],
  "metadata": {
    "colab": {
      "provenance": []
    },
    "kernelspec": {
      "display_name": "Python 3",
      "name": "python3"
    },
    "language_info": {
      "codemirror_mode": {
        "name": "ipython",
        "version": 3
      },
      "file_extension": ".py",
      "mimetype": "text/x-python",
      "name": "python",
      "nbconvert_exporter": "python",
      "pygments_lexer": "ipython3",
      "version": "3.8.8"
    }
  },
  "nbformat": 4,
  "nbformat_minor": 0
}
