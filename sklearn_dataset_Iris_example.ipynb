{
  "cells": [
    {
      "attachments": {},
      "cell_type": "markdown",
      "id": "9a034c2c",
      "metadata": {
        "id": "9a034c2c"
      },
      "source": [
        "## Aprendizado Supervisionado\n",
        "\n",
        "Prática com KNN e Iris"
      ]
    },
    {
      "cell_type": "code",
      "execution_count": 1,
      "id": "7370d2c9",
      "metadata": {
        "id": "7370d2c9"
      },
      "outputs": [],
      "source": [
        "# pacotes básicos\n",
        "import math\n",
        "import numpy as np\n",
        "import pandas as pd\n",
        "import matplotlib.pyplot as plt\n",
        "\n",
        "# pacotes do sklearn para acesso a datasets, preparação, modelagem e avaliação\n",
        "from sklearn import datasets\n",
        "# pacote pipeline para combinar preparação e modelagem\n",
        "from sklearn.pipeline import Pipeline, make_pipeline\n",
        "# arsenal de preparação\n",
        "from sklearn.preprocessing import MinMaxScaler # rescala em min-max\n",
        "from sklearn.preprocessing import StandardScaler # padroniza features removendo média e \n",
        "#     escalando para variância unitária. Também chamado de z-score\n",
        "#\n",
        "from sklearn.model_selection import train_test_split as tts\n",
        "from sklearn.neighbors import KNeighborsClassifier as knn\n",
        "from sklearn.metrics import accuracy_score as acc_score\n",
        "from sklearn.metrics import confusion_matrix as cm\n",
        "from sklearn.metrics import ConfusionMatrixDisplay as CMD\n",
        "\n",
        "#pacotes para apoio a leitura e gravação de datasets\n",
        "from pathlib import Path\n",
        "import csv\n",
        "import pprint"
      ]
    },
    {
      "cell_type": "code",
      "execution_count": 2,
      "id": "e4437524",
      "metadata": {
        "id": "e4437524"
      },
      "outputs": [
        {
          "name": "stdout",
          "output_type": "stream",
          "text": [
            ".. _iris_dataset:\n",
            "\n",
            "Iris plants dataset\n",
            "--------------------\n",
            "\n",
            "**Data Set Characteristics:**\n",
            "\n",
            "    :Number of Instances: 150 (50 in each of three classes)\n",
            "    :Number of Attributes: 4 numeric, predictive attributes and the class\n",
            "    :Attribute Information:\n",
            "        - sepal length in cm\n",
            "        - sepal width in cm\n",
            "        - petal length in cm\n",
            "        - petal width in cm\n",
            "        - class:\n",
            "                - Iris-Setosa\n",
            "                - Iris-Versicolour\n",
            "                - Iris-Virginica\n",
            "                \n",
            "    :Summary Statistics:\n",
            "\n",
            "    ============== ==== ==== ======= ===== ====================\n",
            "                    Min  Max   Mean    SD   Class Correlation\n",
            "    ============== ==== ==== ======= ===== ====================\n",
            "    sepal length:   4.3  7.9   5.84   0.83    0.7826\n",
            "    sepal width:    2.0  4.4   3.05   0.43   -0.4194\n",
            "    petal length:   1.0  6.9   3.76   1.76    0.9490  (high!)\n",
            "    petal width:    0.1  2.5   1.20   0.76    0.9565  (high!)\n",
            "    ============== ==== ==== ======= ===== ====================\n",
            "\n",
            "    :Missing Attribute Values: None\n",
            "    :Class Distribution: 33.3% for each of 3 classes.\n",
            "    :Creator: R.A. Fisher\n",
            "    :Donor: Michael Marshall (MARSHALL%PLU@io.arc.nasa.gov)\n",
            "    :Date: July, 1988\n",
            "\n",
            "The famous Iris database, first used by Sir R.A. Fisher. The dataset is taken\n",
            "from Fisher's paper. Note that it's the same as in R, but not as in the UCI\n",
            "Machine Learning Repository, which has two wrong data points.\n",
            "\n",
            "This is perhaps the best known database to be found in the\n",
            "pattern recognition literature.  Fisher's paper is a classic in the field and\n",
            "is referenced frequently to this day.  (See Duda & Hart, for example.)  The\n",
            "data set contains 3 classes of 50 instances each, where each class refers to a\n",
            "type of iris plant.  One class is linearly separable from the other 2; the\n",
            "latter are NOT linearly separable from each other.\n",
            "\n",
            ".. topic:: References\n",
            "\n",
            "   - Fisher, R.A. \"The use of multiple measurements in taxonomic problems\"\n",
            "     Annual Eugenics, 7, Part II, 179-188 (1936); also in \"Contributions to\n",
            "     Mathematical Statistics\" (John Wiley, NY, 1950).\n",
            "   - Duda, R.O., & Hart, P.E. (1973) Pattern Classification and Scene Analysis.\n",
            "     (Q327.D83) John Wiley & Sons.  ISBN 0-471-22361-1.  See page 218.\n",
            "   - Dasarathy, B.V. (1980) \"Nosing Around the Neighborhood: A New System\n",
            "     Structure and Classification Rule for Recognition in Partially Exposed\n",
            "     Environments\".  IEEE Transactions on Pattern Analysis and Machine\n",
            "     Intelligence, Vol. PAMI-2, No. 1, 67-71.\n",
            "   - Gates, G.W. (1972) \"The Reduced Nearest Neighbor Rule\".  IEEE Transactions\n",
            "     on Information Theory, May 1972, 431-433.\n",
            "   - See also: 1988 MLC Proceedings, 54-64.  Cheeseman et al\"s AUTOCLASS II\n",
            "     conceptual clustering system finds 3 classes in the data.\n",
            "   - Many, many more ...\n"
          ]
        }
      ],
      "source": [
        "# carga de dados \n",
        "iris = datasets.load_iris()\n",
        "print(iris.DESCR)"
      ]
    },
    {
      "cell_type": "code",
      "execution_count": 3,
      "id": "2c45f2ab",
      "metadata": {
        "id": "2c45f2ab"
      },
      "outputs": [],
      "source": [
        "# separação em features e target\n",
        "X = iris.data\n",
        "y = iris.target\n",
        "iris_entrada = pd.DataFrame({'sepallength': X[:, 0], \n",
        "                             'sepalwidth': X[:, 1], \n",
        "                             'petallength': X[:, 2], \n",
        "                             'petalwidth': X[:, 3], \n",
        "                             'class': y})"
      ]
    },
    {
      "cell_type": "code",
      "execution_count": 4,
      "id": "12f796a3",
      "metadata": {
        "id": "12f796a3"
      },
      "outputs": [
        {
          "name": "stdout",
          "output_type": "stream",
          "text": [
            "(150, 4)\n",
            "(150,)\n"
          ]
        }
      ],
      "source": [
        "print(X.shape)\n",
        "print(y.shape)"
      ]
    },
    {
      "cell_type": "code",
      "execution_count": 5,
      "id": "KkQgX7JIVdTK",
      "metadata": {
        "id": "KkQgX7JIVdTK"
      },
      "outputs": [
        {
          "data": {
            "text/plain": [
              "array([[5.1, 3.5, 1.4, 0.2],\n",
              "       [4.9, 3. , 1.4, 0.2],\n",
              "       [4.7, 3.2, 1.3, 0.2],\n",
              "       [4.6, 3.1, 1.5, 0.2],\n",
              "       [5. , 3.6, 1.4, 0.2],\n",
              "       [5.4, 3.9, 1.7, 0.4],\n",
              "       [4.6, 3.4, 1.4, 0.3],\n",
              "       [5. , 3.4, 1.5, 0.2],\n",
              "       [4.4, 2.9, 1.4, 0.2],\n",
              "       [4.9, 3.1, 1.5, 0.1],\n",
              "       [5.4, 3.7, 1.5, 0.2],\n",
              "       [4.8, 3.4, 1.6, 0.2],\n",
              "       [4.8, 3. , 1.4, 0.1],\n",
              "       [4.3, 3. , 1.1, 0.1],\n",
              "       [5.8, 4. , 1.2, 0.2],\n",
              "       [5.7, 4.4, 1.5, 0.4],\n",
              "       [5.4, 3.9, 1.3, 0.4],\n",
              "       [5.1, 3.5, 1.4, 0.3],\n",
              "       [5.7, 3.8, 1.7, 0.3],\n",
              "       [5.1, 3.8, 1.5, 0.3],\n",
              "       [5.4, 3.4, 1.7, 0.2],\n",
              "       [5.1, 3.7, 1.5, 0.4],\n",
              "       [4.6, 3.6, 1. , 0.2],\n",
              "       [5.1, 3.3, 1.7, 0.5],\n",
              "       [4.8, 3.4, 1.9, 0.2],\n",
              "       [5. , 3. , 1.6, 0.2],\n",
              "       [5. , 3.4, 1.6, 0.4],\n",
              "       [5.2, 3.5, 1.5, 0.2],\n",
              "       [5.2, 3.4, 1.4, 0.2],\n",
              "       [4.7, 3.2, 1.6, 0.2],\n",
              "       [4.8, 3.1, 1.6, 0.2],\n",
              "       [5.4, 3.4, 1.5, 0.4],\n",
              "       [5.2, 4.1, 1.5, 0.1],\n",
              "       [5.5, 4.2, 1.4, 0.2],\n",
              "       [4.9, 3.1, 1.5, 0.2],\n",
              "       [5. , 3.2, 1.2, 0.2],\n",
              "       [5.5, 3.5, 1.3, 0.2],\n",
              "       [4.9, 3.6, 1.4, 0.1],\n",
              "       [4.4, 3. , 1.3, 0.2],\n",
              "       [5.1, 3.4, 1.5, 0.2],\n",
              "       [5. , 3.5, 1.3, 0.3],\n",
              "       [4.5, 2.3, 1.3, 0.3],\n",
              "       [4.4, 3.2, 1.3, 0.2],\n",
              "       [5. , 3.5, 1.6, 0.6],\n",
              "       [5.1, 3.8, 1.9, 0.4],\n",
              "       [4.8, 3. , 1.4, 0.3],\n",
              "       [5.1, 3.8, 1.6, 0.2],\n",
              "       [4.6, 3.2, 1.4, 0.2],\n",
              "       [5.3, 3.7, 1.5, 0.2],\n",
              "       [5. , 3.3, 1.4, 0.2],\n",
              "       [7. , 3.2, 4.7, 1.4],\n",
              "       [6.4, 3.2, 4.5, 1.5],\n",
              "       [6.9, 3.1, 4.9, 1.5],\n",
              "       [5.5, 2.3, 4. , 1.3],\n",
              "       [6.5, 2.8, 4.6, 1.5],\n",
              "       [5.7, 2.8, 4.5, 1.3],\n",
              "       [6.3, 3.3, 4.7, 1.6],\n",
              "       [4.9, 2.4, 3.3, 1. ],\n",
              "       [6.6, 2.9, 4.6, 1.3],\n",
              "       [5.2, 2.7, 3.9, 1.4],\n",
              "       [5. , 2. , 3.5, 1. ],\n",
              "       [5.9, 3. , 4.2, 1.5],\n",
              "       [6. , 2.2, 4. , 1. ],\n",
              "       [6.1, 2.9, 4.7, 1.4],\n",
              "       [5.6, 2.9, 3.6, 1.3],\n",
              "       [6.7, 3.1, 4.4, 1.4],\n",
              "       [5.6, 3. , 4.5, 1.5],\n",
              "       [5.8, 2.7, 4.1, 1. ],\n",
              "       [6.2, 2.2, 4.5, 1.5],\n",
              "       [5.6, 2.5, 3.9, 1.1],\n",
              "       [5.9, 3.2, 4.8, 1.8],\n",
              "       [6.1, 2.8, 4. , 1.3],\n",
              "       [6.3, 2.5, 4.9, 1.5],\n",
              "       [6.1, 2.8, 4.7, 1.2],\n",
              "       [6.4, 2.9, 4.3, 1.3],\n",
              "       [6.6, 3. , 4.4, 1.4],\n",
              "       [6.8, 2.8, 4.8, 1.4],\n",
              "       [6.7, 3. , 5. , 1.7],\n",
              "       [6. , 2.9, 4.5, 1.5],\n",
              "       [5.7, 2.6, 3.5, 1. ],\n",
              "       [5.5, 2.4, 3.8, 1.1],\n",
              "       [5.5, 2.4, 3.7, 1. ],\n",
              "       [5.8, 2.7, 3.9, 1.2],\n",
              "       [6. , 2.7, 5.1, 1.6],\n",
              "       [5.4, 3. , 4.5, 1.5],\n",
              "       [6. , 3.4, 4.5, 1.6],\n",
              "       [6.7, 3.1, 4.7, 1.5],\n",
              "       [6.3, 2.3, 4.4, 1.3],\n",
              "       [5.6, 3. , 4.1, 1.3],\n",
              "       [5.5, 2.5, 4. , 1.3],\n",
              "       [5.5, 2.6, 4.4, 1.2],\n",
              "       [6.1, 3. , 4.6, 1.4],\n",
              "       [5.8, 2.6, 4. , 1.2],\n",
              "       [5. , 2.3, 3.3, 1. ],\n",
              "       [5.6, 2.7, 4.2, 1.3],\n",
              "       [5.7, 3. , 4.2, 1.2],\n",
              "       [5.7, 2.9, 4.2, 1.3],\n",
              "       [6.2, 2.9, 4.3, 1.3],\n",
              "       [5.1, 2.5, 3. , 1.1],\n",
              "       [5.7, 2.8, 4.1, 1.3],\n",
              "       [6.3, 3.3, 6. , 2.5],\n",
              "       [5.8, 2.7, 5.1, 1.9],\n",
              "       [7.1, 3. , 5.9, 2.1],\n",
              "       [6.3, 2.9, 5.6, 1.8],\n",
              "       [6.5, 3. , 5.8, 2.2],\n",
              "       [7.6, 3. , 6.6, 2.1],\n",
              "       [4.9, 2.5, 4.5, 1.7],\n",
              "       [7.3, 2.9, 6.3, 1.8],\n",
              "       [6.7, 2.5, 5.8, 1.8],\n",
              "       [7.2, 3.6, 6.1, 2.5],\n",
              "       [6.5, 3.2, 5.1, 2. ],\n",
              "       [6.4, 2.7, 5.3, 1.9],\n",
              "       [6.8, 3. , 5.5, 2.1],\n",
              "       [5.7, 2.5, 5. , 2. ],\n",
              "       [5.8, 2.8, 5.1, 2.4],\n",
              "       [6.4, 3.2, 5.3, 2.3],\n",
              "       [6.5, 3. , 5.5, 1.8],\n",
              "       [7.7, 3.8, 6.7, 2.2],\n",
              "       [7.7, 2.6, 6.9, 2.3],\n",
              "       [6. , 2.2, 5. , 1.5],\n",
              "       [6.9, 3.2, 5.7, 2.3],\n",
              "       [5.6, 2.8, 4.9, 2. ],\n",
              "       [7.7, 2.8, 6.7, 2. ],\n",
              "       [6.3, 2.7, 4.9, 1.8],\n",
              "       [6.7, 3.3, 5.7, 2.1],\n",
              "       [7.2, 3.2, 6. , 1.8],\n",
              "       [6.2, 2.8, 4.8, 1.8],\n",
              "       [6.1, 3. , 4.9, 1.8],\n",
              "       [6.4, 2.8, 5.6, 2.1],\n",
              "       [7.2, 3. , 5.8, 1.6],\n",
              "       [7.4, 2.8, 6.1, 1.9],\n",
              "       [7.9, 3.8, 6.4, 2. ],\n",
              "       [6.4, 2.8, 5.6, 2.2],\n",
              "       [6.3, 2.8, 5.1, 1.5],\n",
              "       [6.1, 2.6, 5.6, 1.4],\n",
              "       [7.7, 3. , 6.1, 2.3],\n",
              "       [6.3, 3.4, 5.6, 2.4],\n",
              "       [6.4, 3.1, 5.5, 1.8],\n",
              "       [6. , 3. , 4.8, 1.8],\n",
              "       [6.9, 3.1, 5.4, 2.1],\n",
              "       [6.7, 3.1, 5.6, 2.4],\n",
              "       [6.9, 3.1, 5.1, 2.3],\n",
              "       [5.8, 2.7, 5.1, 1.9],\n",
              "       [6.8, 3.2, 5.9, 2.3],\n",
              "       [6.7, 3.3, 5.7, 2.5],\n",
              "       [6.7, 3. , 5.2, 2.3],\n",
              "       [6.3, 2.5, 5. , 1.9],\n",
              "       [6.5, 3. , 5.2, 2. ],\n",
              "       [6.2, 3.4, 5.4, 2.3],\n",
              "       [5.9, 3. , 5.1, 1.8]])"
            ]
          },
          "execution_count": 5,
          "metadata": {},
          "output_type": "execute_result"
        }
      ],
      "source": [
        "X"
      ]
    },
    {
      "cell_type": "code",
      "execution_count": 6,
      "id": "c6d9a145",
      "metadata": {
        "id": "c6d9a145"
      },
      "outputs": [
        {
          "name": "stdout",
          "output_type": "stream",
          "text": [
            "(105, 4)\n",
            "(105,)\n",
            "(45, 4)\n",
            "(45,)\n",
            "[[ 0 15]\n",
            " [ 1 15]\n",
            " [ 2 15]]\n"
          ]
        }
      ],
      "source": [
        "# separação em treino e teste, e X e y\n",
        "# importante fazer ANTES do pipeline para evitar data leakage\n",
        "\n",
        "treino_X, teste_X, treino_y, teste_y = tts(X, y, random_state=0,test_size=0.3, stratify=y)\n",
        "\n",
        "print(treino_X.shape)\n",
        "print(treino_y.shape)\n",
        "print(teste_X.shape)\n",
        "print(teste_y.shape)\n",
        "print(np.stack(np.unique(teste_y, return_counts=True), axis=1))"
      ]
    },
    {
      "cell_type": "code",
      "execution_count": 7,
      "id": "XX78mr0AboFd",
      "metadata": {
        "id": "XX78mr0AboFd"
      },
      "outputs": [],
      "source": [
        "treino = pd.DataFrame({'sepallength': treino_X[:, 0], \n",
        "                       'sepalwidth': treino_X[:, 1], \n",
        "                       'petallength': treino_X[:, 2], \n",
        "                       'petalwidth': treino_X[:, 3], \n",
        "                       'class': treino_y})\n",
        "\n",
        "teste = pd.DataFrame({'sepallength': teste_X[:, 0], \n",
        "                      'sepalwidth': teste_X[:, 1], \n",
        "                      'petallength': teste_X[:, 2], \n",
        "                      'petalwidth': teste_X[:, 3], \n",
        "                      'class': teste_y})"
      ]
    },
    {
      "cell_type": "code",
      "execution_count": 8,
      "id": "RnMDZMKWcEGJ",
      "metadata": {
        "id": "RnMDZMKWcEGJ"
      },
      "outputs": [
        {
          "name": "stdout",
          "output_type": "stream",
          "text": [
            "     sepallength  sepalwidth  petallength  petalwidth  class\n",
            "0            6.7         3.3          5.7         2.5      2\n",
            "1            7.7         3.8          6.7         2.2      2\n",
            "2            6.4         3.2          5.3         2.3      2\n",
            "3            4.6         3.6          1.0         0.2      0\n",
            "4            5.2         3.4          1.4         0.2      0\n",
            "5            4.4         3.0          1.3         0.2      0\n",
            "6            4.9         2.4          3.3         1.0      1\n",
            "7            6.4         2.7          5.3         1.9      2\n",
            "8            6.1         3.0          4.6         1.4      1\n",
            "9            6.8         3.0          5.5         2.1      2\n",
            "10           4.8         3.0          1.4         0.3      0\n",
            "11           6.3         3.3          4.7         1.6      1\n",
            "12           5.1         2.5          3.0         1.1      1\n",
            "13           6.6         2.9          4.6         1.3      1\n",
            "14           4.9         3.0          1.4         0.2      0\n",
            "15           5.0         3.4          1.5         0.2      0\n",
            "16           7.7         3.0          6.1         2.3      2\n",
            "17           5.6         2.5          3.9         1.1      1\n",
            "18           5.5         2.4          3.8         1.1      1\n",
            "19           6.0         2.2          5.0         1.5      2\n",
            "20           7.9         3.8          6.4         2.0      2\n",
            "21           5.7         2.9          4.2         1.3      1\n",
            "22           5.0         3.6          1.4         0.2      0\n",
            "23           5.4         3.4          1.5         0.4      0\n",
            "24           5.0         2.3          3.3         1.0      1\n",
            "25           5.8         2.7          3.9         1.2      1\n",
            "26           5.4         3.9          1.7         0.4      0\n",
            "27           6.1         2.9          4.7         1.4      1\n",
            "28           6.4         3.1          5.5         1.8      2\n",
            "29           6.8         3.2          5.9         2.3      2\n",
            "30           6.7         3.1          5.6         2.4      2\n",
            "31           6.0         2.7          5.1         1.6      1\n",
            "32           6.2         2.8          4.8         1.8      2\n",
            "33           6.4         2.8          5.6         2.2      2\n",
            "34           4.4         2.9          1.4         0.2      0\n",
            "35           5.4         3.7          1.5         0.2      0\n",
            "36           4.3         3.0          1.1         0.1      0\n",
            "37           6.1         2.8          4.7         1.2      1\n",
            "38           5.5         4.2          1.4         0.2      0\n",
            "39           5.7         4.4          1.5         0.4      0\n",
            "40           7.4         2.8          6.1         1.9      2\n",
            "41           6.0         2.2          4.0         1.0      1\n",
            "42           6.0         3.0          4.8         1.8      2\n",
            "43           5.4         3.9          1.3         0.4      0\n",
            "44           5.2         3.5          1.5         0.2      0\n",
            "45           5.2         4.1          1.5         0.1      0\n",
            "46           6.9         3.1          4.9         1.5      1\n",
            "47           6.6         3.0          4.4         1.4      1\n",
            "48           5.0         3.4          1.6         0.4      0\n",
            "49           5.7         3.0          4.2         1.2      1\n",
            "50           5.7         2.6          3.5         1.0      1\n",
            "51           5.0         2.0          3.5         1.0      1\n",
            "52           6.7         2.5          5.8         1.8      2\n",
            "53           4.5         2.3          1.3         0.3      0\n",
            "54           6.8         2.8          4.8         1.4      1\n",
            "55           6.7         3.0          5.0         1.7      1\n",
            "56           6.3         2.3          4.4         1.3      1\n",
            "57           6.1         2.8          4.0         1.3      1\n",
            "58           6.2         3.4          5.4         2.3      2\n",
            "59           4.8         3.4          1.6         0.2      0\n",
            "60           6.4         2.9          4.3         1.3      1\n",
            "61           6.3         2.5          5.0         1.9      2\n",
            "62           5.4         3.0          4.5         1.5      1\n",
            "63           5.6         3.0          4.5         1.5      1\n",
            "64           6.4         2.8          5.6         2.1      2\n",
            "65           5.6         2.7          4.2         1.3      1\n",
            "66           7.7         2.6          6.9         2.3      2\n",
            "67           5.3         3.7          1.5         0.2      0\n",
            "68           5.2         2.7          3.9         1.4      1\n",
            "69           7.2         3.2          6.0         1.8      2\n",
            "70           4.9         2.5          4.5         1.7      2\n",
            "71           6.7         3.3          5.7         2.1      2\n",
            "72           6.7         3.0          5.2         2.3      2\n",
            "73           5.1         3.5          1.4         0.3      0\n",
            "74           7.3         2.9          6.3         1.8      2\n",
            "75           5.0         3.5          1.3         0.3      0\n",
            "76           5.0         3.3          1.4         0.2      0\n",
            "77           6.5         3.0          5.8         2.2      2\n",
            "78           6.2         2.9          4.3         1.3      1\n",
            "79           5.4         3.4          1.7         0.2      0\n",
            "80           4.8         3.1          1.6         0.2      0\n",
            "81           5.0         3.0          1.6         0.2      0\n",
            "82           4.4         3.2          1.3         0.2      0\n",
            "83           5.8         4.0          1.2         0.2      0\n",
            "84           5.8         2.6          4.0         1.2      1\n",
            "85           7.6         3.0          6.6         2.1      2\n",
            "86           7.7         2.8          6.7         2.0      2\n",
            "87           6.5         3.0          5.5         1.8      2\n",
            "88           5.0         3.2          1.2         0.2      0\n",
            "89           5.8         2.7          5.1         1.9      2\n",
            "90           4.7         3.2          1.3         0.2      0\n",
            "91           5.7         3.8          1.7         0.3      0\n",
            "92           5.9         3.2          4.8         1.8      1\n",
            "93           5.6         2.9          3.6         1.3      1\n",
            "94           6.3         2.5          4.9         1.5      1\n",
            "95           5.5         2.3          4.0         1.3      1\n",
            "96           5.0         3.5          1.6         0.6      0\n",
            "97           5.8         2.8          5.1         2.4      2\n",
            "98           6.3         2.8          5.1         1.5      2\n",
            "99           4.7         3.2          1.6         0.2      0\n",
            "100          6.1         3.0          4.9         1.8      2\n",
            "101          6.0         2.9          4.5         1.5      1\n",
            "102          4.9         3.1          1.5         0.2      0\n",
            "103          6.9         3.2          5.7         2.3      2\n",
            "104          6.9         3.1          5.1         2.3      2\n",
            "105          6.3         3.4          5.6         2.4      2\n",
            "106          5.8         2.7          5.1         1.9      2\n",
            "107          5.1         3.4          1.5         0.2      0\n",
            "108          5.1         3.8          1.9         0.4      0\n",
            "109          7.0         3.2          4.7         1.4      1\n",
            "110          5.1         3.3          1.7         0.5      0\n",
            "111          5.5         2.6          4.4         1.2      1\n",
            "112          5.9         3.0          5.1         1.8      2\n",
            "113          5.1         3.8          1.6         0.2      0\n",
            "114          5.7         2.8          4.5         1.3      1\n",
            "115          5.1         3.7          1.5         0.4      0\n",
            "116          6.5         3.0          5.2         2.0      2\n",
            "117          4.6         3.2          1.4         0.2      0\n",
            "118          6.3         2.7          4.9         1.8      2\n",
            "119          5.8         2.7          4.1         1.0      1\n",
            "120          6.1         2.6          5.6         1.4      2\n",
            "121          6.2         2.2          4.5         1.5      1\n",
            "122          6.7         3.1          4.4         1.4      1\n",
            "123          6.4         3.2          4.5         1.5      1\n",
            "124          5.1         3.5          1.4         0.2      0\n",
            "125          6.5         2.8          4.6         1.5      1\n",
            "126          6.3         2.9          5.6         1.8      2\n",
            "127          4.8         3.4          1.9         0.2      0\n",
            "128          5.5         2.4          3.7         1.0      1\n",
            "129          7.2         3.0          5.8         1.6      2\n",
            "130          7.1         3.0          5.9         2.1      2\n",
            "131          5.7         2.5          5.0         2.0      2\n",
            "132          6.3         3.3          6.0         2.5      2\n",
            "133          5.5         2.5          4.0         1.3      1\n",
            "134          6.5         3.2          5.1         2.0      2\n",
            "135          5.7         2.8          4.1         1.3      1\n",
            "136          5.1         3.8          1.5         0.3      0\n",
            "137          4.6         3.4          1.4         0.3      0\n",
            "138          5.6         3.0          4.1         1.3      1\n",
            "139          6.7         3.1          4.7         1.5      1\n",
            "140          5.6         2.8          4.9         2.0      2\n",
            "141          6.0         3.4          4.5         1.6      1\n",
            "142          4.9         3.6          1.4         0.1      0\n",
            "143          4.9         3.1          1.5         0.1      0\n",
            "144          5.9         3.0          4.2         1.5      1\n",
            "145          5.5         3.5          1.3         0.2      0\n",
            "146          7.2         3.6          6.1         2.5      2\n",
            "147          4.6         3.1          1.5         0.2      0\n",
            "148          4.8         3.0          1.4         0.1      0\n",
            "149          6.9         3.1          5.4         2.1      2\n"
          ]
        }
      ],
      "source": [
        "iris_shuffled = pd.concat([treino, teste], ignore_index=True)\n",
        "print(iris_shuffled.to_string())"
      ]
    },
    {
      "cell_type": "code",
      "execution_count": 9,
      "id": "84e6bea0",
      "metadata": {
        "id": "84e6bea0"
      },
      "outputs": [
        {
          "name": "stdout",
          "output_type": "stream",
          "text": [
            "k= 1   Acuracia= 0.9777777777777777\n",
            "k= 3   Acuracia= 1.0\n",
            "k= 5   Acuracia= 1.0\n",
            "k= 7   Acuracia= 1.0\n",
            "k= 9   Acuracia= 1.0\n",
            "k= 11   Acuracia= 1.0\n",
            "k= 13   Acuracia= 0.9777777777777777\n"
          ]
        },
        {
          "data": {
            "image/png": "[encoded data removed]",
            "text/plain": [
              "<Figure size 432x288 with 2 Axes>"
            ]
          },
          "metadata": {
            "needs_background": "light"
          },
          "output_type": "display_data"
        },
        {
          "data": {
            "image/png": "[encoded data removed]",
            "text/plain": [
              "<Figure size 432x288 with 2 Axes>"
            ]
          },
          "metadata": {
            "needs_background": "light"
          },
          "output_type": "display_data"
        },
        {
          "data": {
            "image/png": "[encoded data removed]",
            "text/plain": [
              "<Figure size 432x288 with 2 Axes>"
            ]
          },
          "metadata": {
            "needs_background": "light"
          },
          "output_type": "display_data"
        },
        {
          "data": {
            "image/png": "[encoded data removed]",
            "text/plain": [
              "<Figure size 432x288 with 2 Axes>"
            ]
          },
          "metadata": {
            "needs_background": "light"
          },
          "output_type": "display_data"
        },
        {
          "data": {
            "image/png": "[encoded data removed]",
            "text/plain": [
              "<Figure size 432x288 with 2 Axes>"
            ]
          },
          "metadata": {
            "needs_background": "light"
          },
          "output_type": "display_data"
        },
        {
          "data": {
            "image/png": "[encoded data removed]",
            "text/plain": [
              "<Figure size 432x288 with 2 Axes>"
            ]
          },
          "metadata": {
            "needs_background": "light"
          },
          "output_type": "display_data"
        },
        {
          "data": {
            "image/png": "[encoded data removed]",
            "text/plain": [
              "<Figure size 432x288 with 2 Axes>"
            ]
          },
          "metadata": {
            "needs_background": "light"
          },
          "output_type": "display_data"
        }
      ],
      "source": [
        "# indução do modelo para diferentes números de vizinhos\n",
        "\n",
        "n_vizinhos = [1, 3, 5, 7, 9, 11, 13]\n",
        "\n",
        "for n in n_vizinhos:\n",
        "    modelo = knn(n_neighbors=n)\n",
        "    modelo.fit(treino_X, treino_y)\n",
        "    teste_pred_y = modelo.predict(teste_X)\n",
        "    acuracia = acc_score(teste_y, teste_pred_y)\n",
        "    resultado = cm(teste_y, teste_pred_y)\n",
        "    cm_display = CMD(resultado).plot()\n",
        "    print('k=', n,'  Acuracia=', acuracia)\n",
        "    \n"
      ]
    },
    {
      "cell_type": "markdown",
      "id": "YOI6xwFAUk8Q",
      "metadata": {
        "id": "YOI6xwFAUk8Q"
      },
      "source": [
        "### Preparação e modelagem, cuidando para não ocorrer data leakage\n"
      ]
    },
    {
      "cell_type": "code",
      "execution_count": 10,
      "id": "FteMCJSXUthU",
      "metadata": {
        "id": "FteMCJSXUthU"
      },
      "outputs": [
        {
          "name": "stdout",
          "output_type": "stream",
          "text": [
            "k= 1   Acuracia= 0.9777777777777777\n",
            "k= 3   Acuracia= 0.9777777777777777\n",
            "k= 5   Acuracia= 0.9777777777777777\n",
            "k= 7   Acuracia= 0.9777777777777777\n",
            "k= 9   Acuracia= 0.9777777777777777\n",
            "k= 11   Acuracia= 0.9777777777777777\n",
            "k= 13   Acuracia= 1.0\n"
          ]
        },
        {
          "data": {
            "image/png": "[encoded data removed]",
            "text/plain": [
              "<Figure size 432x288 with 2 Axes>"
            ]
          },
          "metadata": {
            "needs_background": "light"
          },
          "output_type": "display_data"
        },
        {
          "data": {
            "image/png": "[encoded data removed]",
            "text/plain": [
              "<Figure size 432x288 with 2 Axes>"
            ]
          },
          "metadata": {
            "needs_background": "light"
          },
          "output_type": "display_data"
        },
        {
          "data": {
            "image/png": "[encoded data removed]",
            "text/plain": [
              "<Figure size 432x288 with 2 Axes>"
            ]
          },
          "metadata": {
            "needs_background": "light"
          },
          "output_type": "display_data"
        },
        {
          "data": {
            "image/png": "[encoded data removed]",
            "text/plain": [
              "<Figure size 432x288 with 2 Axes>"
            ]
          },
          "metadata": {
            "needs_background": "light"
          },
          "output_type": "display_data"
        },
        {
          "data": {
            "image/png": "[encoded data removed]",
            "text/plain": [
              "<Figure size 432x288 with 2 Axes>"
            ]
          },
          "metadata": {
            "needs_background": "light"
          },
          "output_type": "display_data"
        },
        {
          "data": {
            "image/png": "[encoded data removed]",
            "text/plain": [
              "<Figure size 432x288 with 2 Axes>"
            ]
          },
          "metadata": {
            "needs_background": "light"
          },
          "output_type": "display_data"
        },
        {
          "data": {
            "image/png": "[encoded data removed]",
            "text/plain": [
              "<Figure size 432x288 with 2 Axes>"
            ]
          },
          "metadata": {
            "needs_background": "light"
          },
          "output_type": "display_data"
        }
      ],
      "source": [
        "# protocolo experimental\n",
        "\n",
        "n_vizinhos = [1, 3, 5, 7, 9, 11, 13]\n",
        "\n",
        "for n in n_vizinhos:\n",
        "  escalonador = MinMaxScaler()\n",
        "  estimador = knn(n_neighbors= n)\n",
        "  treino_X_escalonado = escalonador.fit_transform(treino_X, treino_y)\n",
        "  estimador.fit(treino_X_escalonado, treino_y)\n",
        "  teste_X_escalonado = escalonador.transform(teste_X)\n",
        "  teste_pred_y = estimador.predict(teste_X_escalonado)\n",
        "  acuracia = acc_score(teste_y, teste_pred_y)\n",
        "  resultado = cm(teste_y, teste_pred_y)\n",
        "  cm_display = CMD(resultado).plot()\n",
        "  print('k=', n,'  Acuracia=', acuracia)"
      ]
    },
    {
      "cell_type": "code",
      "execution_count": 11,
      "id": "dGoseenZYgT-",
      "metadata": {
        "id": "dGoseenZYgT-"
      },
      "outputs": [],
      "source": [
        "treino_escalonado = pd.DataFrame({'sepallength': treino_X_escalonado[:, 0], \n",
        "                                  'sepalwidth': treino_X_escalonado[:, 1], \n",
        "                                  'petallength': treino_X_escalonado[:, 2], \n",
        "                                  'petalwidth': treino_X_escalonado[:, 3], \n",
        "                                  'class': treino_y})\n",
        "\n",
        "teste_escalonado = pd.DataFrame({'sepallength': teste_X_escalonado[:, 0], \n",
        "                                  'sepalwidth': teste_X_escalonado[:, 1], \n",
        "                                  'petallength': teste_X_escalonado[:, 2], \n",
        "                                  'petalwidth': teste_X_escalonado[:, 3], \n",
        "                                  'class': teste_y})"
      ]
    },
    {
      "cell_type": "code",
      "execution_count": 12,
      "id": "JCZTnLr-Y9M5",
      "metadata": {
        "id": "JCZTnLr-Y9M5"
      },
      "outputs": [
        {
          "name": "stdout",
          "output_type": "stream",
          "text": [
            "     sepallength  sepalwidth  petallength  petalwidth  class\n",
            "0       0.666667    0.541667     0.796610    1.000000      2\n",
            "1       0.944444    0.750000     0.966102    0.875000      2\n",
            "2       0.583333    0.500000     0.728814    0.916667      2\n",
            "3       0.083333    0.666667     0.000000    0.041667      0\n",
            "4       0.250000    0.583333     0.067797    0.041667      0\n",
            "5       0.027778    0.416667     0.050847    0.041667      0\n",
            "6       0.166667    0.166667     0.389831    0.375000      1\n",
            "7       0.583333    0.291667     0.728814    0.750000      2\n",
            "8       0.500000    0.416667     0.610169    0.541667      1\n",
            "9       0.694444    0.416667     0.762712    0.833333      2\n",
            "10      0.138889    0.416667     0.067797    0.083333      0\n",
            "11      0.555556    0.541667     0.627119    0.625000      1\n",
            "12      0.222222    0.208333     0.338983    0.416667      1\n",
            "13      0.638889    0.375000     0.610169    0.500000      1\n",
            "14      0.166667    0.416667     0.067797    0.041667      0\n",
            "15      0.194444    0.583333     0.084746    0.041667      0\n",
            "16      0.944444    0.416667     0.864407    0.916667      2\n",
            "17      0.361111    0.208333     0.491525    0.416667      1\n",
            "18      0.333333    0.166667     0.474576    0.416667      1\n",
            "19      0.472222    0.083333     0.677966    0.583333      2\n",
            "20      1.000000    0.750000     0.915254    0.791667      2\n",
            "21      0.388889    0.375000     0.542373    0.500000      1\n",
            "22      0.194444    0.666667     0.067797    0.041667      0\n",
            "23      0.305556    0.583333     0.084746    0.125000      0\n",
            "24      0.194444    0.125000     0.389831    0.375000      1\n",
            "25      0.416667    0.291667     0.491525    0.458333      1\n",
            "26      0.305556    0.791667     0.118644    0.125000      0\n",
            "27      0.500000    0.375000     0.627119    0.541667      1\n",
            "28      0.583333    0.458333     0.762712    0.708333      2\n",
            "29      0.694444    0.500000     0.830508    0.916667      2\n",
            "30      0.666667    0.458333     0.779661    0.958333      2\n",
            "31      0.472222    0.291667     0.694915    0.625000      1\n",
            "32      0.527778    0.333333     0.644068    0.708333      2\n",
            "33      0.583333    0.333333     0.779661    0.875000      2\n",
            "34      0.027778    0.375000     0.067797    0.041667      0\n",
            "35      0.305556    0.708333     0.084746    0.041667      0\n",
            "36      0.000000    0.416667     0.016949    0.000000      0\n",
            "37      0.500000    0.333333     0.627119    0.458333      1\n",
            "38      0.333333    0.916667     0.067797    0.041667      0\n",
            "39      0.388889    1.000000     0.084746    0.125000      0\n",
            "40      0.861111    0.333333     0.864407    0.750000      2\n",
            "41      0.472222    0.083333     0.508475    0.375000      1\n",
            "42      0.472222    0.416667     0.644068    0.708333      2\n",
            "43      0.305556    0.791667     0.050847    0.125000      0\n",
            "44      0.250000    0.625000     0.084746    0.041667      0\n",
            "45      0.250000    0.875000     0.084746    0.000000      0\n",
            "46      0.722222    0.458333     0.661017    0.583333      1\n",
            "47      0.638889    0.416667     0.576271    0.541667      1\n",
            "48      0.194444    0.583333     0.101695    0.125000      0\n",
            "49      0.388889    0.416667     0.542373    0.458333      1\n",
            "50      0.388889    0.250000     0.423729    0.375000      1\n",
            "51      0.194444    0.000000     0.423729    0.375000      1\n",
            "52      0.666667    0.208333     0.813559    0.708333      2\n",
            "53      0.055556    0.125000     0.050847    0.083333      0\n",
            "54      0.694444    0.333333     0.644068    0.541667      1\n",
            "55      0.666667    0.416667     0.677966    0.666667      1\n",
            "56      0.555556    0.125000     0.576271    0.500000      1\n",
            "57      0.500000    0.333333     0.508475    0.500000      1\n",
            "58      0.527778    0.583333     0.745763    0.916667      2\n",
            "59      0.138889    0.583333     0.101695    0.041667      0\n",
            "60      0.583333    0.375000     0.559322    0.500000      1\n",
            "61      0.555556    0.208333     0.677966    0.750000      2\n",
            "62      0.305556    0.416667     0.593220    0.583333      1\n",
            "63      0.361111    0.416667     0.593220    0.583333      1\n",
            "64      0.583333    0.333333     0.779661    0.833333      2\n",
            "65      0.361111    0.291667     0.542373    0.500000      1\n",
            "66      0.944444    0.250000     1.000000    0.916667      2\n",
            "67      0.277778    0.708333     0.084746    0.041667      0\n",
            "68      0.250000    0.291667     0.491525    0.541667      1\n",
            "69      0.805556    0.500000     0.847458    0.708333      2\n",
            "70      0.166667    0.208333     0.593220    0.666667      2\n",
            "71      0.666667    0.541667     0.796610    0.833333      2\n",
            "72      0.666667    0.416667     0.711864    0.916667      2\n",
            "73      0.222222    0.625000     0.067797    0.083333      0\n",
            "74      0.833333    0.375000     0.898305    0.708333      2\n",
            "75      0.194444    0.625000     0.050847    0.083333      0\n",
            "76      0.194444    0.541667     0.067797    0.041667      0\n",
            "77      0.611111    0.416667     0.813559    0.875000      2\n",
            "78      0.527778    0.375000     0.559322    0.500000      1\n",
            "79      0.305556    0.583333     0.118644    0.041667      0\n",
            "80      0.138889    0.458333     0.101695    0.041667      0\n",
            "81      0.194444    0.416667     0.101695    0.041667      0\n",
            "82      0.027778    0.500000     0.050847    0.041667      0\n",
            "83      0.416667    0.833333     0.033898    0.041667      0\n",
            "84      0.416667    0.250000     0.508475    0.458333      1\n",
            "85      0.916667    0.416667     0.949153    0.833333      2\n",
            "86      0.944444    0.333333     0.966102    0.791667      2\n",
            "87      0.611111    0.416667     0.762712    0.708333      2\n",
            "88      0.194444    0.500000     0.033898    0.041667      0\n",
            "89      0.416667    0.291667     0.694915    0.750000      2\n",
            "90      0.111111    0.500000     0.050847    0.041667      0\n",
            "91      0.388889    0.750000     0.118644    0.083333      0\n",
            "92      0.444444    0.500000     0.644068    0.708333      1\n",
            "93      0.361111    0.375000     0.440678    0.500000      1\n",
            "94      0.555556    0.208333     0.661017    0.583333      1\n",
            "95      0.333333    0.125000     0.508475    0.500000      1\n",
            "96      0.194444    0.625000     0.101695    0.208333      0\n",
            "97      0.416667    0.333333     0.694915    0.958333      2\n",
            "98      0.555556    0.333333     0.694915    0.583333      2\n",
            "99      0.111111    0.500000     0.101695    0.041667      0\n",
            "100     0.500000    0.416667     0.661017    0.708333      2\n",
            "101     0.472222    0.375000     0.593220    0.583333      1\n",
            "102     0.166667    0.458333     0.084746    0.041667      0\n",
            "103     0.722222    0.500000     0.796610    0.916667      2\n",
            "104     0.722222    0.458333     0.694915    0.916667      2\n",
            "105     0.555556    0.583333     0.779661    0.958333      2\n",
            "106     0.416667    0.291667     0.694915    0.750000      2\n",
            "107     0.222222    0.583333     0.084746    0.041667      0\n",
            "108     0.222222    0.750000     0.152542    0.125000      0\n",
            "109     0.750000    0.500000     0.627119    0.541667      1\n",
            "110     0.222222    0.541667     0.118644    0.166667      0\n",
            "111     0.333333    0.250000     0.576271    0.458333      1\n",
            "112     0.444444    0.416667     0.694915    0.708333      2\n",
            "113     0.222222    0.750000     0.101695    0.041667      0\n",
            "114     0.388889    0.333333     0.593220    0.500000      1\n",
            "115     0.222222    0.708333     0.084746    0.125000      0\n",
            "116     0.611111    0.416667     0.711864    0.791667      2\n",
            "117     0.083333    0.500000     0.067797    0.041667      0\n",
            "118     0.555556    0.291667     0.661017    0.708333      2\n",
            "119     0.416667    0.291667     0.525424    0.375000      1\n",
            "120     0.500000    0.250000     0.779661    0.541667      2\n",
            "121     0.527778    0.083333     0.593220    0.583333      1\n",
            "122     0.666667    0.458333     0.576271    0.541667      1\n",
            "123     0.583333    0.500000     0.593220    0.583333      1\n",
            "124     0.222222    0.625000     0.067797    0.041667      0\n",
            "125     0.611111    0.333333     0.610169    0.583333      1\n",
            "126     0.555556    0.375000     0.779661    0.708333      2\n",
            "127     0.138889    0.583333     0.152542    0.041667      0\n",
            "128     0.333333    0.166667     0.457627    0.375000      1\n",
            "129     0.805556    0.416667     0.813559    0.625000      2\n",
            "130     0.777778    0.416667     0.830508    0.833333      2\n",
            "131     0.388889    0.208333     0.677966    0.791667      2\n",
            "132     0.555556    0.541667     0.847458    1.000000      2\n",
            "133     0.333333    0.208333     0.508475    0.500000      1\n",
            "134     0.611111    0.500000     0.694915    0.791667      2\n",
            "135     0.388889    0.333333     0.525424    0.500000      1\n",
            "136     0.222222    0.750000     0.084746    0.083333      0\n",
            "137     0.083333    0.583333     0.067797    0.083333      0\n",
            "138     0.361111    0.416667     0.525424    0.500000      1\n",
            "139     0.666667    0.458333     0.627119    0.583333      1\n",
            "140     0.361111    0.333333     0.661017    0.791667      2\n",
            "141     0.472222    0.583333     0.593220    0.625000      1\n",
            "142     0.166667    0.666667     0.067797    0.000000      0\n",
            "143     0.166667    0.458333     0.084746    0.000000      0\n",
            "144     0.444444    0.416667     0.542373    0.583333      1\n",
            "145     0.333333    0.625000     0.050847    0.041667      0\n",
            "146     0.805556    0.666667     0.864407    1.000000      2\n",
            "147     0.083333    0.458333     0.084746    0.041667      0\n",
            "148     0.138889    0.416667     0.067797    0.000000      0\n",
            "149     0.722222    0.458333     0.745763    0.833333      2\n"
          ]
        }
      ],
      "source": [
        "iris_escalonado = pd.concat([treino_escalonado, teste_escalonado], ignore_index=True)\n",
        "print(iris_escalonado.to_string())"
      ]
    }
  ],
  "metadata": {
    "colab": {
      "provenance": []
    },
    "kernelspec": {
      "display_name": "Python 3",
      "language": "python",
      "name": "python3"
    },
    "language_info": {
      "codemirror_mode": {
        "name": "ipython",
        "version": 3
      },
      "file_extension": ".py",
      "mimetype": "text/x-python",
      "name": "python",
      "nbconvert_exporter": "python",
      "pygments_lexer": "ipython3",
      "version": "3.8.8"
    }
  },
  "nbformat": 4,
  "nbformat_minor": 5
}
